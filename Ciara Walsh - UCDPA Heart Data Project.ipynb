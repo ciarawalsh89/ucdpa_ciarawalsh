{
 "cells": [
  {
   "cell_type": "markdown",
   "id": "3777a85f",
   "metadata": {},
   "source": [
    "# <center> Heart Failure Prediction Dataset\n",
    "\n",
    "## <center> 19-01-23 CIDAB\n",
    "## <center> Group A    \n",
    "\n",
    "### <center> Ciara Walsh\n",
    "    \n",
    "    "
   ]
  },
  {
   "cell_type": "markdown",
   "id": "b7854951",
   "metadata": {},
   "source": [
    "## Data\n",
    "\n",
    "The Heart is the major component of the human survival system and the main issue faced by a human is a failure of it Cardiovascular diseases (CVDs) are the number 1 cause of death globally, taking an estimated 17.9 million lives each year, which accounts for 31% of all deaths worldwide. Four out of 5CVD deaths are due to heart attacks and strokes, and one-third of these deaths occur prematurely in people under 70 years of age. Heart failure is a common event caused by CVDs and this dataset contains 12 features that can be used to predict a possible heart disease.\n",
    "\n",
    "* I found this Dataset on Kaggle after searching through several different sites trying to find a topic that i found iteresting and what other people would find relatable. There are 11 factors which indicate if heart failure will occur in these people. In this dataset, 5 heart datasets are combined over 11 common features which makes it the largest heart disease dataset available so far for research purposes. The five datasets used for its curation are:\n",
    "\n",
    "Cleveland: 303 observations\n",
    "Hungarian: 294 observations\n",
    "Switzerland: 123 observations\n",
    "Long Beach VA: 200 observations\n",
    "Stalog (Heart) Data Set: 270 observations\n",
    "https://www.kaggle.com/datasets/fedesoriano/heart-failure-prediction\n",
    "\n",
    "* Components on the data are: \n",
    "Age-\t28-77\n",
    "Sex- Male   725\n",
    "Female    193\n",
    "ChestPainType TA: Typical Angina, ATA: Atypical Angina, NAP: Non-Anginal Pain, ASY: Asymptomatic\n",
    "RestingBP - mm Hg\n",
    "Cholesterol - mm/dl\n",
    "FastingBS - 1: if FastingBS > 120 mg/dl, 0: otherwise\n",
    "RestingECG - resting electrocardiogram results Normal: Normal, ST: having ST-T wave abnormality (T wave inversions and/or ST elevation or depression of > 0.05 mV), LVH: showing probable or definite left ventricular hypertrophy by Estes' criteria\n",
    "MaxHR - maximum heart rate achieved Numeric value between 60 and 202\n",
    "ExerciseAngina - exercise-induced angina Y: Yes, N: No\n",
    "Oldpeak\t- ST Numeric value measured in depression\n",
    "ST_Slope - the slope of the peak exercise ST segment Up: upsloping, Flat: flat, Down: downsloping\n",
    "HeartDisease -output class 1: heart disease, 0: Normal\n",
    "\n"
   ]
  },
  {
   "cell_type": "code",
   "execution_count": 133,
   "id": "fb08dc22",
   "metadata": {},
   "outputs": [],
   "source": [
    "# load in the data\n",
    "heart = pd.read_csv('heart.csv') # good"
   ]
  },
  {
   "cell_type": "markdown",
   "id": "9da4d544",
   "metadata": {},
   "source": [
    "## Preparation\n",
    "\n",
    "To prepare the dataset for analysis we will take a quick look at the data. This will also highlight anywhere the data may need cleaning.\n",
    "\n",
    "* Shape\n",
    "\n",
    "I looked for the shape of the dataset so that i would know the number of rows and columns of the DataFrame.We can see from that that we have 918 columns and 12 rows.We use the shape function by first calling on the dataset - heart - and then using the function \".shape\".\n",
    "We call on this function by running print(heart.shape)\n",
    "\n",
    "\n",
    "What does shape show you? \n",
    "What is the size of this dataset?\n",
    "How do we call on this function?\n",
    "    - We use the shape function by first calling on the dataset - heart - and then using the function \".shape\".\n",
    "    \n",
    "* Head\n",
    "\n",
    "We use the Head function by first calling on the dataset - heart - and then using the function \".head\".The reason we look for the head of the dataset is so that we get the first 5 rowns of the data frame or series which is allows us to quickly test if the dataset has the correct data in it for us to use.We called on this function by running  heart_head = heart.head()\n",
    "                                                                                             heart_head\n",
    "    \n",
    "\n",
    "* Tail\n",
    "\n",
    "We use the Tail finction by first calling on the dataset - heart- and then using thr function \".tail\". The reason we look for the tail of the dataset is to return the bottom 5 rows of a data frame or series.The head and the tail function are the most  usefull function used in reading and analysing the data.We can get the tail by running        heart_tail = heart.tail()\n",
    "                                                                                                heart_tail\n",
    "\n",
    "\n",
    "\n",
    "* Data Types\n",
    "\n",
    "We use the data types function Data types by first calling on the dataset - heart- and then using thr function \".dtypes\" these are the classification or categorization of data items. It represents the kind of value that tells what operations can be performed on a particular dataset.We get the data types by running   print(heart.dtypes) There are 12 types of data in this data set."
   ]
  },
  {
   "cell_type": "code",
   "execution_count": 110,
   "id": "b607b9d1",
   "metadata": {},
   "outputs": [],
   "source": [
    "# load in libraries and packages\n",
    "import numpy as np\n",
    "import pandas as pd\n",
    "from pandas import DataFrame, Series\n",
    "import matplotlib.pyplot as plt\n",
    "import seaborn as sns\n",
    "import scipy.stats as stats"
   ]
  },
  {
   "cell_type": "code",
   "execution_count": 35,
   "id": "6fccd524",
   "metadata": {},
   "outputs": [
    {
     "data": {
      "text/plain": [
       "(918, 12)"
      ]
     },
     "execution_count": 35,
     "metadata": {},
     "output_type": "execute_result"
    }
   ],
   "source": [
    "# lets take a look at the data\n",
    "(heart.shape)\n",
    "heart.shape"
   ]
  },
  {
   "cell_type": "code",
   "execution_count": 36,
   "id": "f5cd1fc1",
   "metadata": {},
   "outputs": [
    {
     "data": {
      "text/html": [
       "<div>\n",
       "<style scoped>\n",
       "    .dataframe tbody tr th:only-of-type {\n",
       "        vertical-align: middle;\n",
       "    }\n",
       "\n",
       "    .dataframe tbody tr th {\n",
       "        vertical-align: top;\n",
       "    }\n",
       "\n",
       "    .dataframe thead th {\n",
       "        text-align: right;\n",
       "    }\n",
       "</style>\n",
       "<table border=\"1\" class=\"dataframe\">\n",
       "  <thead>\n",
       "    <tr style=\"text-align: right;\">\n",
       "      <th></th>\n",
       "      <th>Age</th>\n",
       "      <th>Sex</th>\n",
       "      <th>ChestPainType</th>\n",
       "      <th>RestingBP</th>\n",
       "      <th>Cholesterol</th>\n",
       "      <th>FastingBS</th>\n",
       "      <th>RestingECG</th>\n",
       "      <th>MaxHR</th>\n",
       "      <th>ExerciseAngina</th>\n",
       "      <th>Oldpeak</th>\n",
       "      <th>ST_Slope</th>\n",
       "      <th>HeartDisease</th>\n",
       "    </tr>\n",
       "  </thead>\n",
       "  <tbody>\n",
       "    <tr>\n",
       "      <th>0</th>\n",
       "      <td>40</td>\n",
       "      <td>M</td>\n",
       "      <td>ATA</td>\n",
       "      <td>140</td>\n",
       "      <td>289</td>\n",
       "      <td>0</td>\n",
       "      <td>Normal</td>\n",
       "      <td>172</td>\n",
       "      <td>N</td>\n",
       "      <td>0.0</td>\n",
       "      <td>Up</td>\n",
       "      <td>0</td>\n",
       "    </tr>\n",
       "    <tr>\n",
       "      <th>1</th>\n",
       "      <td>49</td>\n",
       "      <td>F</td>\n",
       "      <td>NAP</td>\n",
       "      <td>160</td>\n",
       "      <td>180</td>\n",
       "      <td>0</td>\n",
       "      <td>Normal</td>\n",
       "      <td>156</td>\n",
       "      <td>N</td>\n",
       "      <td>1.0</td>\n",
       "      <td>Flat</td>\n",
       "      <td>1</td>\n",
       "    </tr>\n",
       "    <tr>\n",
       "      <th>2</th>\n",
       "      <td>37</td>\n",
       "      <td>M</td>\n",
       "      <td>ATA</td>\n",
       "      <td>130</td>\n",
       "      <td>283</td>\n",
       "      <td>0</td>\n",
       "      <td>ST</td>\n",
       "      <td>98</td>\n",
       "      <td>N</td>\n",
       "      <td>0.0</td>\n",
       "      <td>Up</td>\n",
       "      <td>0</td>\n",
       "    </tr>\n",
       "    <tr>\n",
       "      <th>3</th>\n",
       "      <td>48</td>\n",
       "      <td>F</td>\n",
       "      <td>ASY</td>\n",
       "      <td>138</td>\n",
       "      <td>214</td>\n",
       "      <td>0</td>\n",
       "      <td>Normal</td>\n",
       "      <td>108</td>\n",
       "      <td>Y</td>\n",
       "      <td>1.5</td>\n",
       "      <td>Flat</td>\n",
       "      <td>1</td>\n",
       "    </tr>\n",
       "    <tr>\n",
       "      <th>4</th>\n",
       "      <td>54</td>\n",
       "      <td>M</td>\n",
       "      <td>NAP</td>\n",
       "      <td>150</td>\n",
       "      <td>195</td>\n",
       "      <td>0</td>\n",
       "      <td>Normal</td>\n",
       "      <td>122</td>\n",
       "      <td>N</td>\n",
       "      <td>0.0</td>\n",
       "      <td>Up</td>\n",
       "      <td>0</td>\n",
       "    </tr>\n",
       "  </tbody>\n",
       "</table>\n",
       "</div>"
      ],
      "text/plain": [
       "   Age Sex ChestPainType  RestingBP  Cholesterol  FastingBS RestingECG  MaxHR  \\\n",
       "0   40   M           ATA        140          289          0     Normal    172   \n",
       "1   49   F           NAP        160          180          0     Normal    156   \n",
       "2   37   M           ATA        130          283          0         ST     98   \n",
       "3   48   F           ASY        138          214          0     Normal    108   \n",
       "4   54   M           NAP        150          195          0     Normal    122   \n",
       "\n",
       "  ExerciseAngina  Oldpeak ST_Slope  HeartDisease  \n",
       "0              N      0.0       Up             0  \n",
       "1              N      1.0     Flat             1  \n",
       "2              N      0.0       Up             0  \n",
       "3              Y      1.5     Flat             1  \n",
       "4              N      0.0       Up             0  "
      ]
     },
     "execution_count": 36,
     "metadata": {},
     "output_type": "execute_result"
    }
   ],
   "source": [
    "# will look at the head and tail of data now\n",
    "heart_head = heart.head()\n",
    "heart_head"
   ]
  },
  {
   "cell_type": "code",
   "execution_count": 14,
   "id": "f3dc6cea",
   "metadata": {},
   "outputs": [
    {
     "data": {
      "text/html": [
       "<div>\n",
       "<style scoped>\n",
       "    .dataframe tbody tr th:only-of-type {\n",
       "        vertical-align: middle;\n",
       "    }\n",
       "\n",
       "    .dataframe tbody tr th {\n",
       "        vertical-align: top;\n",
       "    }\n",
       "\n",
       "    .dataframe thead th {\n",
       "        text-align: right;\n",
       "    }\n",
       "</style>\n",
       "<table border=\"1\" class=\"dataframe\">\n",
       "  <thead>\n",
       "    <tr style=\"text-align: right;\">\n",
       "      <th></th>\n",
       "      <th>Age</th>\n",
       "      <th>Sex</th>\n",
       "      <th>ChestPainType</th>\n",
       "      <th>RestingBP</th>\n",
       "      <th>Cholesterol</th>\n",
       "      <th>FastingBS</th>\n",
       "      <th>RestingECG</th>\n",
       "      <th>MaxHR</th>\n",
       "      <th>ExerciseAngina</th>\n",
       "      <th>Oldpeak</th>\n",
       "      <th>ST_Slope</th>\n",
       "      <th>HeartDisease</th>\n",
       "    </tr>\n",
       "  </thead>\n",
       "  <tbody>\n",
       "    <tr>\n",
       "      <th>913</th>\n",
       "      <td>45</td>\n",
       "      <td>M</td>\n",
       "      <td>TA</td>\n",
       "      <td>110</td>\n",
       "      <td>264</td>\n",
       "      <td>0</td>\n",
       "      <td>Normal</td>\n",
       "      <td>132</td>\n",
       "      <td>N</td>\n",
       "      <td>1.2</td>\n",
       "      <td>Flat</td>\n",
       "      <td>1</td>\n",
       "    </tr>\n",
       "    <tr>\n",
       "      <th>914</th>\n",
       "      <td>68</td>\n",
       "      <td>M</td>\n",
       "      <td>ASY</td>\n",
       "      <td>144</td>\n",
       "      <td>193</td>\n",
       "      <td>1</td>\n",
       "      <td>Normal</td>\n",
       "      <td>141</td>\n",
       "      <td>N</td>\n",
       "      <td>3.4</td>\n",
       "      <td>Flat</td>\n",
       "      <td>1</td>\n",
       "    </tr>\n",
       "    <tr>\n",
       "      <th>915</th>\n",
       "      <td>57</td>\n",
       "      <td>M</td>\n",
       "      <td>ASY</td>\n",
       "      <td>130</td>\n",
       "      <td>131</td>\n",
       "      <td>0</td>\n",
       "      <td>Normal</td>\n",
       "      <td>115</td>\n",
       "      <td>Y</td>\n",
       "      <td>1.2</td>\n",
       "      <td>Flat</td>\n",
       "      <td>1</td>\n",
       "    </tr>\n",
       "    <tr>\n",
       "      <th>916</th>\n",
       "      <td>57</td>\n",
       "      <td>F</td>\n",
       "      <td>ATA</td>\n",
       "      <td>130</td>\n",
       "      <td>236</td>\n",
       "      <td>0</td>\n",
       "      <td>LVH</td>\n",
       "      <td>174</td>\n",
       "      <td>N</td>\n",
       "      <td>0.0</td>\n",
       "      <td>Flat</td>\n",
       "      <td>1</td>\n",
       "    </tr>\n",
       "    <tr>\n",
       "      <th>917</th>\n",
       "      <td>38</td>\n",
       "      <td>M</td>\n",
       "      <td>NAP</td>\n",
       "      <td>138</td>\n",
       "      <td>175</td>\n",
       "      <td>0</td>\n",
       "      <td>Normal</td>\n",
       "      <td>173</td>\n",
       "      <td>N</td>\n",
       "      <td>0.0</td>\n",
       "      <td>Up</td>\n",
       "      <td>0</td>\n",
       "    </tr>\n",
       "  </tbody>\n",
       "</table>\n",
       "</div>"
      ],
      "text/plain": [
       "     Age Sex ChestPainType  RestingBP  Cholesterol  FastingBS RestingECG  \\\n",
       "913   45   M            TA        110          264          0     Normal   \n",
       "914   68   M           ASY        144          193          1     Normal   \n",
       "915   57   M           ASY        130          131          0     Normal   \n",
       "916   57   F           ATA        130          236          0        LVH   \n",
       "917   38   M           NAP        138          175          0     Normal   \n",
       "\n",
       "     MaxHR ExerciseAngina  Oldpeak ST_Slope  HeartDisease  \n",
       "913    132              N      1.2     Flat             1  \n",
       "914    141              N      3.4     Flat             1  \n",
       "915    115              Y      1.2     Flat             1  \n",
       "916    174              N      0.0     Flat             1  \n",
       "917    173              N      0.0       Up             0  "
      ]
     },
     "execution_count": 14,
     "metadata": {},
     "output_type": "execute_result"
    }
   ],
   "source": [
    "# will look at the head and tale of data now\n",
    "heart_tail = heart.tail()\n",
    "heart_tail"
   ]
  },
  {
   "cell_type": "code",
   "execution_count": 113,
   "id": "2be99684",
   "metadata": {
    "scrolled": true
   },
   "outputs": [
    {
     "name": "stdout",
     "output_type": "stream",
     "text": [
      "Age                 int64\n",
      "Sex                object\n",
      "ChestPainType      object\n",
      "RestingBP           int64\n",
      "Cholesterol         int64\n",
      "FastingBS           int64\n",
      "RestingECG         object\n",
      "MaxHR               int64\n",
      "ExerciseAngina     object\n",
      "Oldpeak           float64\n",
      "ST_Slope           object\n",
      "HeartDisease        int64\n",
      "dtype: object\n",
      "<bound method DataFrame.info of      Age Sex ChestPainType  RestingBP  Cholesterol  FastingBS RestingECG  \\\n",
      "0     40   M           ATA        140          289          0     Normal   \n",
      "1     49   F           NAP        160          180          0     Normal   \n",
      "2     37   M           ATA        130          283          0         ST   \n",
      "3     48   F           ASY        138          214          0     Normal   \n",
      "4     54   M           NAP        150          195          0     Normal   \n",
      "..   ...  ..           ...        ...          ...        ...        ...   \n",
      "913   45   M            TA        110          264          0     Normal   \n",
      "914   68   M           ASY        144          193          1     Normal   \n",
      "915   57   M           ASY        130          131          0     Normal   \n",
      "916   57   F           ATA        130          236          0        LVH   \n",
      "917   38   M           NAP        138          175          0     Normal   \n",
      "\n",
      "     MaxHR ExerciseAngina  Oldpeak ST_Slope  HeartDisease  \n",
      "0      172              N      0.0       Up             0  \n",
      "1      156              N      1.0     Flat             1  \n",
      "2       98              N      0.0       Up             0  \n",
      "3      108              Y      1.5     Flat             1  \n",
      "4      122              N      0.0       Up             0  \n",
      "..     ...            ...      ...      ...           ...  \n",
      "913    132              N      1.2     Flat             1  \n",
      "914    141              N      3.4     Flat             1  \n",
      "915    115              Y      1.2     Flat             1  \n",
      "916    174              N      0.0     Flat             1  \n",
      "917    173              N      0.0       Up             0  \n",
      "\n",
      "[918 rows x 12 columns]>\n"
     ]
    }
   ],
   "source": [
    "# data-types & info\n",
    "print(heart.dtypes)\n",
    "print(heart.info)"
   ]
  },
  {
   "cell_type": "markdown",
   "id": "b0e94b05",
   "metadata": {},
   "source": [
    "## Analysis\n",
    "\n",
    "### Summary Statistics\n",
    "\n",
    "* Numerical data\n",
    "\n",
    "- Age\n",
    "- RestingBP\n",
    "- Cholesterol\n",
    "- Fasting Blood Sugar\n",
    "- Max Heart Rate\n",
    "- Heart Disease\n",
    "- Old Peak\n",
    "\n",
    "* Categorical data\n",
    "- Sex\n",
    "- Chest pain type\n",
    "- Resting ECG\n",
    "- Exercise Angina\n",
    "- ST_Slope\n"
   ]
  },
  {
   "cell_type": "code",
   "execution_count": 108,
   "id": "a96ac43c",
   "metadata": {},
   "outputs": [
    {
     "data": {
      "text/html": [
       "<div>\n",
       "<style scoped>\n",
       "    .dataframe tbody tr th:only-of-type {\n",
       "        vertical-align: middle;\n",
       "    }\n",
       "\n",
       "    .dataframe tbody tr th {\n",
       "        vertical-align: top;\n",
       "    }\n",
       "\n",
       "    .dataframe thead th {\n",
       "        text-align: right;\n",
       "    }\n",
       "</style>\n",
       "<table border=\"1\" class=\"dataframe\">\n",
       "  <thead>\n",
       "    <tr style=\"text-align: right;\">\n",
       "      <th></th>\n",
       "      <th>Age</th>\n",
       "      <th>RestingBP</th>\n",
       "      <th>Cholesterol</th>\n",
       "      <th>FastingBS</th>\n",
       "      <th>MaxHR</th>\n",
       "      <th>Oldpeak</th>\n",
       "      <th>HeartDisease</th>\n",
       "    </tr>\n",
       "  </thead>\n",
       "  <tbody>\n",
       "    <tr>\n",
       "      <th>count</th>\n",
       "      <td>918.000000</td>\n",
       "      <td>918.000000</td>\n",
       "      <td>918.000000</td>\n",
       "      <td>918.000000</td>\n",
       "      <td>918.000000</td>\n",
       "      <td>918.000000</td>\n",
       "      <td>918.000000</td>\n",
       "    </tr>\n",
       "    <tr>\n",
       "      <th>mean</th>\n",
       "      <td>53.510893</td>\n",
       "      <td>132.396514</td>\n",
       "      <td>198.799564</td>\n",
       "      <td>0.233115</td>\n",
       "      <td>136.809368</td>\n",
       "      <td>0.887364</td>\n",
       "      <td>0.553377</td>\n",
       "    </tr>\n",
       "    <tr>\n",
       "      <th>std</th>\n",
       "      <td>9.432617</td>\n",
       "      <td>18.514154</td>\n",
       "      <td>109.384145</td>\n",
       "      <td>0.423046</td>\n",
       "      <td>25.460334</td>\n",
       "      <td>1.066570</td>\n",
       "      <td>0.497414</td>\n",
       "    </tr>\n",
       "    <tr>\n",
       "      <th>min</th>\n",
       "      <td>28.000000</td>\n",
       "      <td>0.000000</td>\n",
       "      <td>0.000000</td>\n",
       "      <td>0.000000</td>\n",
       "      <td>60.000000</td>\n",
       "      <td>-2.600000</td>\n",
       "      <td>0.000000</td>\n",
       "    </tr>\n",
       "    <tr>\n",
       "      <th>25%</th>\n",
       "      <td>47.000000</td>\n",
       "      <td>120.000000</td>\n",
       "      <td>173.250000</td>\n",
       "      <td>0.000000</td>\n",
       "      <td>120.000000</td>\n",
       "      <td>0.000000</td>\n",
       "      <td>0.000000</td>\n",
       "    </tr>\n",
       "    <tr>\n",
       "      <th>50%</th>\n",
       "      <td>54.000000</td>\n",
       "      <td>130.000000</td>\n",
       "      <td>223.000000</td>\n",
       "      <td>0.000000</td>\n",
       "      <td>138.000000</td>\n",
       "      <td>0.600000</td>\n",
       "      <td>1.000000</td>\n",
       "    </tr>\n",
       "    <tr>\n",
       "      <th>75%</th>\n",
       "      <td>60.000000</td>\n",
       "      <td>140.000000</td>\n",
       "      <td>267.000000</td>\n",
       "      <td>0.000000</td>\n",
       "      <td>156.000000</td>\n",
       "      <td>1.500000</td>\n",
       "      <td>1.000000</td>\n",
       "    </tr>\n",
       "    <tr>\n",
       "      <th>max</th>\n",
       "      <td>77.000000</td>\n",
       "      <td>200.000000</td>\n",
       "      <td>603.000000</td>\n",
       "      <td>1.000000</td>\n",
       "      <td>202.000000</td>\n",
       "      <td>6.200000</td>\n",
       "      <td>1.000000</td>\n",
       "    </tr>\n",
       "  </tbody>\n",
       "</table>\n",
       "</div>"
      ],
      "text/plain": [
       "              Age   RestingBP  Cholesterol   FastingBS       MaxHR  \\\n",
       "count  918.000000  918.000000   918.000000  918.000000  918.000000   \n",
       "mean    53.510893  132.396514   198.799564    0.233115  136.809368   \n",
       "std      9.432617   18.514154   109.384145    0.423046   25.460334   \n",
       "min     28.000000    0.000000     0.000000    0.000000   60.000000   \n",
       "25%     47.000000  120.000000   173.250000    0.000000  120.000000   \n",
       "50%     54.000000  130.000000   223.000000    0.000000  138.000000   \n",
       "75%     60.000000  140.000000   267.000000    0.000000  156.000000   \n",
       "max     77.000000  200.000000   603.000000    1.000000  202.000000   \n",
       "\n",
       "          Oldpeak  HeartDisease  \n",
       "count  918.000000    918.000000  \n",
       "mean     0.887364      0.553377  \n",
       "std      1.066570      0.497414  \n",
       "min     -2.600000      0.000000  \n",
       "25%      0.000000      0.000000  \n",
       "50%      0.600000      1.000000  \n",
       "75%      1.500000      1.000000  \n",
       "max      6.200000      1.000000  "
      ]
     },
     "execution_count": 108,
     "metadata": {},
     "output_type": "execute_result"
    }
   ],
   "source": [
    "# summary statistics\n",
    "heart.describe()  # stat summaries on numerical values only\n"
   ]
  },
  {
   "cell_type": "code",
   "execution_count": 99,
   "id": "6a62c542",
   "metadata": {},
   "outputs": [],
   "source": [
    "# create numerical and categorical data-sets.\n",
    "NUMERICAL_COLUMNS = ['Age', 'RestingBP', 'Cholesterol', 'MaxHR', 'Oldpeak']\n",
    "CATEGORICAL_COLUMNS = ['Sex', 'ChestPainType', 'FastingBS', 'RestingECG', 'ExerciseAngina', 'ST_Slope']"
   ]
  },
  {
   "cell_type": "code",
   "execution_count": 161,
   "id": "d14f76dd",
   "metadata": {},
   "outputs": [
    {
     "name": "stdout",
     "output_type": "stream",
     "text": [
      "count     918\n",
      "unique      2\n",
      "top         M\n",
      "freq      725\n",
      "Name: Sex, dtype: object\n",
      "count     918\n",
      "unique      4\n",
      "top       ASY\n",
      "freq      496\n",
      "Name: ChestPainType, dtype: object\n",
      "count        918\n",
      "unique         3\n",
      "top       Normal\n",
      "freq         552\n",
      "Name: RestingECG, dtype: object\n",
      "count     918\n",
      "unique      2\n",
      "top         N\n",
      "freq      547\n",
      "Name: ExerciseAngina, dtype: object\n"
     ]
    }
   ],
   "source": [
    "#heart data\n",
    "print(heart['Sex'].describe())\n",
    "print(heart['ChestPainType'].describe())\n",
    "print(heart['RestingECG'].describe())\n",
    "print(heart['ExerciseAngina'].describe())\n"
   ]
  },
  {
   "cell_type": "code",
   "execution_count": 100,
   "id": "d3ae4ff8",
   "metadata": {
    "scrolled": true
   },
   "outputs": [
    {
     "name": "stdout",
     "output_type": "stream",
     "text": [
      "M    725\n",
      "F    193\n",
      "Name: Sex, dtype: int64\n",
      "ASY    496\n",
      "NAP    203\n",
      "ATA    173\n",
      "TA      46\n",
      "Name: ChestPainType, dtype: int64\n",
      "Normal    552\n",
      "LVH       188\n",
      "ST        178\n",
      "Name: RestingECG, dtype: int64\n",
      "N    547\n",
      "Y    371\n",
      "Name: ExerciseAngina, dtype: int64\n"
     ]
    }
   ],
   "source": [
    "n=2 # two unique values in gender\n",
    "gender=heart['Sex'].value_counts()[:n].sort_values(ascending=False) # sorts unique values in gender columns, assigns to 'gender'\n",
    "print(gender) # prints unique values and counts\n",
    " \n",
    "n=4\n",
    "pain=heart['ChestPainType'].value_counts()[:n].sort_values(ascending=False)\n",
    "print(pain)\n",
    "\n",
    "n=3\n",
    "ecg=heart['RestingECG'].value_counts()[:n].sort_values(ascending=False)\n",
    "print(ecg) \n",
    "\n",
    "n=7\n",
    "exercise=heart['ExerciseAngina'].value_counts()[:n].sort_values(ascending=False)\n",
    "print(exercise)"
   ]
  },
  {
   "cell_type": "code",
   "execution_count": 162,
   "id": "6a2bbd5a",
   "metadata": {},
   "outputs": [
    {
     "name": "stderr",
     "output_type": "stream",
     "text": [
      "<ipython-input-162-cfb84cdb1612>:5: UserWarning: Matplotlib is currently using agg, which is a non-GUI backend, so cannot show the figure.\n",
      "  plt.show()\n"
     ]
    },
    {
     "data": {
      "image/png": "[encoded data removed]",
      "text/plain": [
       "<Figure size 432x432 with 1 Axes>"
      ]
     },
     "metadata": {},
     "output_type": "display_data"
    }
   ],
   "source": [
    "# boxplot shows outliers clearly and spread of the data\n",
    "\n",
    "numerical_columns = ['Age', 'RestingBP', 'Cholesterol', 'MaxHR', 'Oldpeak', 'HeartDisease']\n",
    "heart[numerical_columns].boxplot(figsize=(6,6), notch = True)\n",
    "plt.show()"
   ]
  },
  {
   "cell_type": "code",
   "execution_count": 163,
   "id": "0ac07e62",
   "metadata": {
    "scrolled": false
   },
   "outputs": [
    {
     "name": "stderr",
     "output_type": "stream",
     "text": [
      "<ipython-input-163-d05b2c292063>:5: UserWarning: Matplotlib is currently using agg, which is a non-GUI backend, so cannot show the figure.\n",
      "  plt.show()\n"
     ]
    },
    {
     "data": {
      "image/png": "[encoded data removed]",
      "text/plain": [
       "<Figure size 576x396 with 2 Axes>"
      ]
     },
     "metadata": {},
     "output_type": "display_data"
    }
   ],
   "source": [
    "# correlation matrix\n",
    "corrmat = heart[numerical_columns].corr()\n",
    "sns.heatmap(corrmat, annot=True) \n",
    "plt.title('Relationship between Numerical Variables')\n",
    "plt.show()\n",
    "\n"
   ]
  },
  {
   "cell_type": "code",
   "execution_count": 126,
   "id": "e57e2435",
   "metadata": {},
   "outputs": [
    {
     "name": "stdout",
     "output_type": "stream",
     "text": [
      "     Age Sex ChestPainType  RestingBP  Cholesterol  FastingBS RestingECG  \\\n",
      "241   54   M           ASY        200          198          0     Normal   \n",
      "\n",
      "     MaxHR ExerciseAngina  Oldpeak ST_Slope  HeartDisease  \n",
      "241    142              Y      2.0     Flat             1  \n",
      "     Age Sex ChestPainType  RestingBP  Cholesterol  FastingBS RestingECG  \\\n",
      "149   54   M           ASY        130          603          1     Normal   \n",
      "\n",
      "     MaxHR ExerciseAngina  Oldpeak ST_Slope  HeartDisease  \n",
      "149    125              Y      1.0     Flat             1  \n",
      "    Age Sex ChestPainType  RestingBP  Cholesterol  FastingBS RestingECG  \\\n",
      "36   65   M           ASY        140          306          1     Normal   \n",
      "\n",
      "    MaxHR ExerciseAngina  Oldpeak ST_Slope  HeartDisease  \n",
      "36     87              Y      1.5     Flat             1  \n"
     ]
    }
   ],
   "source": [
    "# look for max values\n",
    "max_resting_BP = heart['RestingBP'].idxmax()\n",
    "max_cholesterol = heart['Cholesterol'].idxmax()\n",
    "max_fasting_BS = heart['FastingBS'].idxmax()\n",
    "\n",
    "# locate max values\n",
    "print(heart.loc[[max_resting_BP]])\n",
    "print(heart.loc[[max_cholesterol]])\n",
    "print(heart.loc[[max_fasting_BS]])"
   ]
  },
  {
   "cell_type": "code",
   "execution_count": null,
   "id": "5126d9f7",
   "metadata": {},
   "outputs": [],
   "source": [
    "# create a pairs plot to show relationships between numerical variables\n",
    "pairs = sns.pairplot(heart[numerical_columns])\n",
    "plt.show (pair)"
   ]
  },
  {
   "cell_type": "code",
   "execution_count": 102,
   "id": "af6ce355",
   "metadata": {},
   "outputs": [
    {
     "data": {
      "text/plain": [
       "array([[<AxesSubplot:title={'center':'Age'}>,\n",
       "        <AxesSubplot:title={'center':'RestingBP'}>],\n",
       "       [<AxesSubplot:title={'center':'Cholesterol'}>,\n",
       "        <AxesSubplot:title={'center':'MaxHR'}>],\n",
       "       [<AxesSubplot:title={'center':'Oldpeak'}>, <AxesSubplot:>]],\n",
       "      dtype=object)"
      ]
     },
     "execution_count": 102,
     "metadata": {},
     "output_type": "execute_result"
    },
    {
     "data": {
      "image/png": "[encoded data removed]",
      "text/plain": [
       "<Figure size 1152x864 with 6 Axes>"
      ]
     },
     "metadata": {
      "needs_background": "light"
     },
     "output_type": "display_data"
    }
   ],
   "source": [
    "heart[NUMERICAL_COLUMNS].hist(figsize=(16,12))\n"
   ]
  },
  {
   "cell_type": "code",
   "execution_count": 60,
   "id": "5f6cd9c6",
   "metadata": {
    "scrolled": false
   },
   "outputs": [
    {
     "data": {
      "text/plain": [
       "<AxesSubplot:>"
      ]
     },
     "execution_count": 60,
     "metadata": {},
     "output_type": "execute_result"
    },
    {
     "data": {
      "image/png": "[encoded data removed]",
      "text/plain": [
       "<Figure size 720x720 with 4 Axes>"
      ]
     },
     "metadata": {
      "needs_background": "light"
     },
     "output_type": "display_data"
    }
   ],
   "source": [
    "# plot the categorical data variables\n",
    "plt.figure(figsize=(10,10))\n",
    "\n",
    "# subplots\n",
    "\n",
    "# subplot 1 -- Gender\n",
    "plt.subplot(2,2,1)\n",
    "gender.plot(kind = 'bar', color = 'red', alpha = 0.6)\n",
    "\n",
    "# subplot 2 -- Chest Pain Type\n",
    "plt.subplot(2,2,2)\n",
    "pain.plot(kind = 'bar', color = 'blue', alpha = 0.6)\n",
    "\n",
    "# subplot 3 -- ECG\n",
    "plt.subplot(2,2,3)\n",
    "ecg.plot(kind = 'bar' , color = 'green', alpha = 0.6)\n",
    "\n",
    "# subplot 4 -- Exercise\n",
    "plt.subplot(2,2,4)\n",
    "exercise.plot(kind = 'bar' , color = 'yellow', alpha = 0.6)"
   ]
  },
  {
   "cell_type": "markdown",
   "id": "cfb78add",
   "metadata": {},
   "source": [
    "---"
   ]
  },
  {
   "cell_type": "code",
   "execution_count": 49,
   "id": "2b44675a",
   "metadata": {
    "scrolled": true
   },
   "outputs": [
    {
     "data": {
      "text/plain": [
       "<AxesSubplot:>"
      ]
     },
     "execution_count": 49,
     "metadata": {},
     "output_type": "execute_result"
    },
    {
     "data": {
      "image/png": "[encoded data removed]",
      "text/plain": [
       "<Figure size 720x720 with 2 Axes>"
      ]
     },
     "metadata": {
      "needs_background": "light"
     },
     "output_type": "display_data"
    }
   ],
   "source": [
    "# first plots\n",
    "plt.figure(figsize=(10,10))\n",
    "\n",
    "# subplots\n",
    "\n",
    "# subplot 1 -- Age\n",
    "plt.subplot(2,2,1)\n",
    "heart['Age'].plot(color = 'red')\n",
    "\n",
    "# subplot 2 -- RestingBP\n",
    "plt.subplot(2,2,2)\n",
    "heart[\"RestingBP\"].plot(color = \"blue\")"
   ]
  },
  {
   "cell_type": "markdown",
   "id": "eb12dc5e",
   "metadata": {},
   "source": [
    "## Insights"
   ]
  },
  {
   "cell_type": "code",
   "execution_count": 131,
   "id": "4abec8e4",
   "metadata": {},
   "outputs": [
    {
     "name": "stdout",
     "output_type": "stream",
     "text": [
      "[]\n",
      "[170, 190, 180, 170, 180, 180, 170, 170, 200, 180, 180, 170, 180, 80, 200, 185, 170, 200, 180, 180, 170, 0, 178, 170, 170, 170, 172, 180, 190, 170, 174, 178, 180, 200, 192, 178, 180, 170, 180, 172, 170, 170]\n",
      "[468, 518, 412, 529, 466, 603, 491, 0, 0, 0, 0, 0, 0, 0, 0, 0, 0, 0, 0, 0, 0, 0, 0, 0, 0, 0, 0, 0, 0, 0, 0, 0, 0, 0, 0, 0, 0, 0, 0, 0, 0, 0, 0, 0, 0, 0, 0, 0, 0, 0, 0, 0, 0, 0, 0, 0, 0, 0, 0, 0, 0, 0, 0, 0, 0, 0, 0, 0, 0, 0, 0, 0, 0, 0, 0, 0, 0, 0, 0, 0, 0, 0, 0, 0, 0, 0, 0, 0, 0, 0, 0, 0, 0, 0, 0, 0, 0, 0, 0, 0, 0, 0, 0, 0, 0, 0, 0, 0, 0, 0, 0, 0, 0, 0, 0, 0, 0, 0, 0, 0, 0, 0, 0, 0, 0, 0, 0, 0, 0, 0, 0, 0, 0, 0, 0, 0, 0, 0, 0, 0, 0, 0, 0, 0, 0, 0, 0, 0, 0, 0, 0, 0, 0, 0, 0, 0, 0, 0, 0, 0, 0, 0, 0, 0, 0, 0, 0, 0, 0, 0, 0, 0, 0, 458, 0, 0, 0, 0, 0, 0, 564, 417, 409]\n",
      "[63, 60]\n",
      "[4.0, 5.0, -2.6, 4.0, 4.0, 4.0, 4.0, 4.0, 4.2, 4.0, 5.6, 3.8, 4.2, 6.2, 4.4, 4.0]\n"
     ]
    }
   ],
   "source": [
    "## See reference 1\n",
    "# define a function to detect outliers where input is data-frame\n",
    "def outlier_finder(df):\n",
    " # find q1 and q3 values\n",
    " Q1, Q3 = np.percentile(sorted(df), [25, 75])\n",
    " # compute IRQ\n",
    " inter_quartile = Q3 - Q1\n",
    " # find lower and upper bounds\n",
    " LB = Q1 - (1.5 * inter_quartile)\n",
    " UB = Q3 + (1.5 * inter_quartile)\n",
    " outliers = [x for x in df if x <= LB or x >= UB]\n",
    " return outliers\n",
    "# input data\n",
    "print(outlier_finder((heart['Age']))) # no outliers\n",
    "print(outlier_finder((heart['RestingBP']))) # some outliers\n",
    "print(outlier_finder((heart['Cholesterol']))) # significant number of outliers\n",
    "print(outlier_finder((heart['MaxHR']))) # two outliers \n",
    "print(outlier_finder((heart['Oldpeak']))) # some outliers"
   ]
  },
  {
   "cell_type": "markdown",
   "id": "3bf72b4f",
   "metadata": {},
   "source": [
    "*Subset the heart data\n",
    "We subset the data into those with heart disease (1) and those without (0)."
   ]
  },
  {
   "cell_type": "code",
   "execution_count": 144,
   "id": "86bd5fc4",
   "metadata": {},
   "outputs": [
    {
     "name": "stdout",
     "output_type": "stream",
     "text": [
      "(508, 12)\n",
      "(410, 12)\n"
     ]
    }
   ],
   "source": [
    "type(heart[\"HeartDisease\"])\n",
    "heart[\"HeartDisease\"].shape #918 values\n",
    "\n",
    "# People with HD and people without\n",
    "\n",
    "pos_diag = heart[heart['HeartDisease'] == 1]\n",
    "neg_diag = heart[heart['HeartDisease'] == 0]\n",
    "\n",
    "#positive and negative diagnosis\n",
    "\n",
    "print(pos_diag.shape) # == 1\n",
    "print(neg_diag.shape) # == 0"
   ]
  },
  {
   "cell_type": "code",
   "execution_count": 145,
   "id": "8854024e",
   "metadata": {},
   "outputs": [
    {
     "data": {
      "text/html": [
       "<div>\n",
       "<style scoped>\n",
       "    .dataframe tbody tr th:only-of-type {\n",
       "        vertical-align: middle;\n",
       "    }\n",
       "\n",
       "    .dataframe tbody tr th {\n",
       "        vertical-align: top;\n",
       "    }\n",
       "\n",
       "    .dataframe thead th {\n",
       "        text-align: right;\n",
       "    }\n",
       "</style>\n",
       "<table border=\"1\" class=\"dataframe\">\n",
       "  <thead>\n",
       "    <tr style=\"text-align: right;\">\n",
       "      <th></th>\n",
       "      <th>Age</th>\n",
       "      <th>RestingBP</th>\n",
       "      <th>Cholesterol</th>\n",
       "      <th>FastingBS</th>\n",
       "      <th>MaxHR</th>\n",
       "      <th>Oldpeak</th>\n",
       "      <th>HeartDisease</th>\n",
       "    </tr>\n",
       "  </thead>\n",
       "  <tbody>\n",
       "    <tr>\n",
       "      <th>count</th>\n",
       "      <td>508.000000</td>\n",
       "      <td>508.000000</td>\n",
       "      <td>508.000000</td>\n",
       "      <td>508.000000</td>\n",
       "      <td>508.000000</td>\n",
       "      <td>508.000000</td>\n",
       "      <td>508.0</td>\n",
       "    </tr>\n",
       "    <tr>\n",
       "      <th>mean</th>\n",
       "      <td>55.899606</td>\n",
       "      <td>134.185039</td>\n",
       "      <td>175.940945</td>\n",
       "      <td>0.334646</td>\n",
       "      <td>127.655512</td>\n",
       "      <td>1.274213</td>\n",
       "      <td>1.0</td>\n",
       "    </tr>\n",
       "    <tr>\n",
       "      <th>std</th>\n",
       "      <td>8.727056</td>\n",
       "      <td>19.828685</td>\n",
       "      <td>126.391398</td>\n",
       "      <td>0.472332</td>\n",
       "      <td>23.386923</td>\n",
       "      <td>1.151872</td>\n",
       "      <td>0.0</td>\n",
       "    </tr>\n",
       "    <tr>\n",
       "      <th>min</th>\n",
       "      <td>31.000000</td>\n",
       "      <td>0.000000</td>\n",
       "      <td>0.000000</td>\n",
       "      <td>0.000000</td>\n",
       "      <td>60.000000</td>\n",
       "      <td>-2.600000</td>\n",
       "      <td>1.0</td>\n",
       "    </tr>\n",
       "    <tr>\n",
       "      <th>25%</th>\n",
       "      <td>51.000000</td>\n",
       "      <td>120.000000</td>\n",
       "      <td>0.000000</td>\n",
       "      <td>0.000000</td>\n",
       "      <td>112.000000</td>\n",
       "      <td>0.000000</td>\n",
       "      <td>1.0</td>\n",
       "    </tr>\n",
       "    <tr>\n",
       "      <th>50%</th>\n",
       "      <td>57.000000</td>\n",
       "      <td>132.000000</td>\n",
       "      <td>217.000000</td>\n",
       "      <td>0.000000</td>\n",
       "      <td>126.000000</td>\n",
       "      <td>1.200000</td>\n",
       "      <td>1.0</td>\n",
       "    </tr>\n",
       "    <tr>\n",
       "      <th>75%</th>\n",
       "      <td>62.000000</td>\n",
       "      <td>145.000000</td>\n",
       "      <td>267.000000</td>\n",
       "      <td>1.000000</td>\n",
       "      <td>144.250000</td>\n",
       "      <td>2.000000</td>\n",
       "      <td>1.0</td>\n",
       "    </tr>\n",
       "    <tr>\n",
       "      <th>max</th>\n",
       "      <td>77.000000</td>\n",
       "      <td>200.000000</td>\n",
       "      <td>603.000000</td>\n",
       "      <td>1.000000</td>\n",
       "      <td>195.000000</td>\n",
       "      <td>6.200000</td>\n",
       "      <td>1.0</td>\n",
       "    </tr>\n",
       "  </tbody>\n",
       "</table>\n",
       "</div>"
      ],
      "text/plain": [
       "              Age   RestingBP  Cholesterol   FastingBS       MaxHR  \\\n",
       "count  508.000000  508.000000   508.000000  508.000000  508.000000   \n",
       "mean    55.899606  134.185039   175.940945    0.334646  127.655512   \n",
       "std      8.727056   19.828685   126.391398    0.472332   23.386923   \n",
       "min     31.000000    0.000000     0.000000    0.000000   60.000000   \n",
       "25%     51.000000  120.000000     0.000000    0.000000  112.000000   \n",
       "50%     57.000000  132.000000   217.000000    0.000000  126.000000   \n",
       "75%     62.000000  145.000000   267.000000    1.000000  144.250000   \n",
       "max     77.000000  200.000000   603.000000    1.000000  195.000000   \n",
       "\n",
       "          Oldpeak  HeartDisease  \n",
       "count  508.000000         508.0  \n",
       "mean     1.274213           1.0  \n",
       "std      1.151872           0.0  \n",
       "min     -2.600000           1.0  \n",
       "25%      0.000000           1.0  \n",
       "50%      1.200000           1.0  \n",
       "75%      2.000000           1.0  \n",
       "max      6.200000           1.0  "
      ]
     },
     "execution_count": 145,
     "metadata": {},
     "output_type": "execute_result"
    }
   ],
   "source": [
    "# summary statistic of positive diagnosis\n",
    "pos_diag.describe() "
   ]
  },
  {
   "cell_type": "code",
   "execution_count": 146,
   "id": "5007aaf8",
   "metadata": {
    "scrolled": true
   },
   "outputs": [
    {
     "data": {
      "text/html": [
       "<div>\n",
       "<style scoped>\n",
       "    .dataframe tbody tr th:only-of-type {\n",
       "        vertical-align: middle;\n",
       "    }\n",
       "\n",
       "    .dataframe tbody tr th {\n",
       "        vertical-align: top;\n",
       "    }\n",
       "\n",
       "    .dataframe thead th {\n",
       "        text-align: right;\n",
       "    }\n",
       "</style>\n",
       "<table border=\"1\" class=\"dataframe\">\n",
       "  <thead>\n",
       "    <tr style=\"text-align: right;\">\n",
       "      <th></th>\n",
       "      <th>Age</th>\n",
       "      <th>RestingBP</th>\n",
       "      <th>Cholesterol</th>\n",
       "      <th>FastingBS</th>\n",
       "      <th>MaxHR</th>\n",
       "      <th>Oldpeak</th>\n",
       "      <th>HeartDisease</th>\n",
       "    </tr>\n",
       "  </thead>\n",
       "  <tbody>\n",
       "    <tr>\n",
       "      <th>count</th>\n",
       "      <td>410.000000</td>\n",
       "      <td>410.000000</td>\n",
       "      <td>410.000000</td>\n",
       "      <td>410.000000</td>\n",
       "      <td>410.000000</td>\n",
       "      <td>410.000000</td>\n",
       "      <td>410.0</td>\n",
       "    </tr>\n",
       "    <tr>\n",
       "      <th>mean</th>\n",
       "      <td>50.551220</td>\n",
       "      <td>130.180488</td>\n",
       "      <td>227.121951</td>\n",
       "      <td>0.107317</td>\n",
       "      <td>148.151220</td>\n",
       "      <td>0.408049</td>\n",
       "      <td>0.0</td>\n",
       "    </tr>\n",
       "    <tr>\n",
       "      <th>std</th>\n",
       "      <td>9.444915</td>\n",
       "      <td>16.499585</td>\n",
       "      <td>74.634659</td>\n",
       "      <td>0.309894</td>\n",
       "      <td>23.288067</td>\n",
       "      <td>0.699709</td>\n",
       "      <td>0.0</td>\n",
       "    </tr>\n",
       "    <tr>\n",
       "      <th>min</th>\n",
       "      <td>28.000000</td>\n",
       "      <td>80.000000</td>\n",
       "      <td>0.000000</td>\n",
       "      <td>0.000000</td>\n",
       "      <td>69.000000</td>\n",
       "      <td>-1.100000</td>\n",
       "      <td>0.0</td>\n",
       "    </tr>\n",
       "    <tr>\n",
       "      <th>25%</th>\n",
       "      <td>43.000000</td>\n",
       "      <td>120.000000</td>\n",
       "      <td>197.250000</td>\n",
       "      <td>0.000000</td>\n",
       "      <td>134.000000</td>\n",
       "      <td>0.000000</td>\n",
       "      <td>0.0</td>\n",
       "    </tr>\n",
       "    <tr>\n",
       "      <th>50%</th>\n",
       "      <td>51.000000</td>\n",
       "      <td>130.000000</td>\n",
       "      <td>227.000000</td>\n",
       "      <td>0.000000</td>\n",
       "      <td>150.000000</td>\n",
       "      <td>0.000000</td>\n",
       "      <td>0.0</td>\n",
       "    </tr>\n",
       "    <tr>\n",
       "      <th>75%</th>\n",
       "      <td>57.000000</td>\n",
       "      <td>140.000000</td>\n",
       "      <td>266.750000</td>\n",
       "      <td>0.000000</td>\n",
       "      <td>165.000000</td>\n",
       "      <td>0.600000</td>\n",
       "      <td>0.0</td>\n",
       "    </tr>\n",
       "    <tr>\n",
       "      <th>max</th>\n",
       "      <td>76.000000</td>\n",
       "      <td>190.000000</td>\n",
       "      <td>564.000000</td>\n",
       "      <td>1.000000</td>\n",
       "      <td>202.000000</td>\n",
       "      <td>4.200000</td>\n",
       "      <td>0.0</td>\n",
       "    </tr>\n",
       "  </tbody>\n",
       "</table>\n",
       "</div>"
      ],
      "text/plain": [
       "              Age   RestingBP  Cholesterol   FastingBS       MaxHR  \\\n",
       "count  410.000000  410.000000   410.000000  410.000000  410.000000   \n",
       "mean    50.551220  130.180488   227.121951    0.107317  148.151220   \n",
       "std      9.444915   16.499585    74.634659    0.309894   23.288067   \n",
       "min     28.000000   80.000000     0.000000    0.000000   69.000000   \n",
       "25%     43.000000  120.000000   197.250000    0.000000  134.000000   \n",
       "50%     51.000000  130.000000   227.000000    0.000000  150.000000   \n",
       "75%     57.000000  140.000000   266.750000    0.000000  165.000000   \n",
       "max     76.000000  190.000000   564.000000    1.000000  202.000000   \n",
       "\n",
       "          Oldpeak  HeartDisease  \n",
       "count  410.000000         410.0  \n",
       "mean     0.408049           0.0  \n",
       "std      0.699709           0.0  \n",
       "min     -1.100000           0.0  \n",
       "25%      0.000000           0.0  \n",
       "50%      0.000000           0.0  \n",
       "75%      0.600000           0.0  \n",
       "max      4.200000           0.0  "
      ]
     },
     "execution_count": 146,
     "metadata": {},
     "output_type": "execute_result"
    }
   ],
   "source": [
    "#summary statistic of a negative diagnosis\n",
    "neg_diag.describe() \n"
   ]
  },
  {
   "cell_type": "code",
   "execution_count": null,
   "id": "d532e031",
   "metadata": {},
   "outputs": [],
   "source": [
    "* Categorical variable analysis\n",
    "See reference 3"
   ]
  },
  {
   "cell_type": "code",
   "execution_count": 172,
   "id": "401eecac",
   "metadata": {},
   "outputs": [],
   "source": [
    "# See Reference 2\n",
    "# Heart Disease to Sex\n",
    "HD_S = (heart.groupby(['HeartDisease']))['Sex'].value_counts(normalize=True)\\\n",
    ".mul(100).reset_index(name = \"PCT\")\n",
    "\n",
    "# Heart Disease to Chest Pain Type\n",
    "HD_CP = (heart.groupby(['HeartDisease']))['ChestPainType'].value_counts(normalize=True)\\\n",
    ".mul(100).reset_index(name = \"PCT\")\n",
    "\n",
    "# Heart Disease to Resting ECG\n",
    "HD_RECG = (heart.groupby(['HeartDisease']))['RestingECG'].value_counts(normalize=True)\\\n",
    ".mul(100).reset_index(name = \"PCT\")\n",
    "\n",
    "# Heart Disease to Exercise Angina\n",
    "HD_EA = (heart.groupby(['HeartDisease']))['ExerciseAngina'].value_counts(normalize=True)\\\n",
    ".mul(100).reset_index(name = \"PCT\")\n",
    "\n",
    "\n",
    "\n",
    "\n"
   ]
  },
  {
   "cell_type": "code",
   "execution_count": 152,
   "id": "eb56cb8b",
   "metadata": {
    "scrolled": false
   },
   "outputs": [
    {
     "ename": "TypeError",
     "evalue": "show() takes 1 positional argument but 2 were given",
     "output_type": "error",
     "traceback": [
      "\u001b[1;31m---------------------------------------------------------------------------\u001b[0m",
      "\u001b[1;31mTypeError\u001b[0m                                 Traceback (most recent call last)",
      "\u001b[1;32m<ipython-input-152-4ef8aa1345d1>\u001b[0m in \u001b[0;36m<module>\u001b[1;34m\u001b[0m\n\u001b[0;32m      1\u001b[0m \u001b[0ma1\u001b[0m \u001b[1;33m=\u001b[0m \u001b[0msns\u001b[0m\u001b[1;33m.\u001b[0m\u001b[0mbarplot\u001b[0m\u001b[1;33m(\u001b[0m\u001b[0mx\u001b[0m \u001b[1;33m=\u001b[0m \u001b[1;34m\"HeartDisease\"\u001b[0m\u001b[1;33m,\u001b[0m \u001b[0my\u001b[0m \u001b[1;33m=\u001b[0m \u001b[1;34m\"PCT\"\u001b[0m\u001b[1;33m,\u001b[0m \u001b[0mhue\u001b[0m \u001b[1;33m=\u001b[0m \u001b[1;34m\"Sex\"\u001b[0m\u001b[1;33m,\u001b[0m \u001b[0mdata\u001b[0m \u001b[1;33m=\u001b[0m \u001b[0mHD_S\u001b[0m\u001b[1;33m)\u001b[0m\u001b[0;31m\\\u001b[0m\u001b[1;33m\u001b[0m\u001b[1;33m\u001b[0m\u001b[0m\n\u001b[0;32m      2\u001b[0m \u001b[1;33m.\u001b[0m\u001b[0mset_title\u001b[0m\u001b[1;33m(\u001b[0m\u001b[1;34m\"Sex vs Heart Disease\"\u001b[0m\u001b[1;33m)\u001b[0m\u001b[1;33m\u001b[0m\u001b[1;33m\u001b[0m\u001b[0m\n\u001b[1;32m----> 3\u001b[1;33m \u001b[0mplt\u001b[0m\u001b[1;33m.\u001b[0m\u001b[0mshow\u001b[0m\u001b[1;33m(\u001b[0m\u001b[0ma1\u001b[0m\u001b[1;33m)\u001b[0m\u001b[1;33m\u001b[0m\u001b[1;33m\u001b[0m\u001b[0m\n\u001b[0m",
      "\u001b[1;32m~\\Anaconda3\\lib\\site-packages\\matplotlib\\pyplot.py\u001b[0m in \u001b[0;36mshow\u001b[1;34m(*args, **kwargs)\u001b[0m\n\u001b[0;32m    351\u001b[0m     \"\"\"\n\u001b[0;32m    352\u001b[0m     \u001b[0m_warn_if_gui_out_of_main_thread\u001b[0m\u001b[1;33m(\u001b[0m\u001b[1;33m)\u001b[0m\u001b[1;33m\u001b[0m\u001b[1;33m\u001b[0m\u001b[0m\n\u001b[1;32m--> 353\u001b[1;33m     \u001b[1;32mreturn\u001b[0m \u001b[0m_backend_mod\u001b[0m\u001b[1;33m.\u001b[0m\u001b[0mshow\u001b[0m\u001b[1;33m(\u001b[0m\u001b[1;33m*\u001b[0m\u001b[0margs\u001b[0m\u001b[1;33m,\u001b[0m \u001b[1;33m**\u001b[0m\u001b[0mkwargs\u001b[0m\u001b[1;33m)\u001b[0m\u001b[1;33m\u001b[0m\u001b[1;33m\u001b[0m\u001b[0m\n\u001b[0m\u001b[0;32m    354\u001b[0m \u001b[1;33m\u001b[0m\u001b[0m\n\u001b[0;32m    355\u001b[0m \u001b[1;33m\u001b[0m\u001b[0m\n",
      "\u001b[1;31mTypeError\u001b[0m: show() takes 1 positional argument but 2 were given"
     ]
    },
    {
     "data": {
      "image/png": "[encoded data removed]",
      "text/plain": [
       "<Figure size 576x396 with 1 Axes>"
      ]
     },
     "metadata": {},
     "output_type": "display_data"
    }
   ],
   "source": [
    "a1 = sns.barplot(x = \"HeartDisease\", y = \"PCT\", hue = \"Sex\", data = HD_S)\\\n",
    ".set_title(\"Sex vs Heart Disease\")\n",
    "plt.show (a1)\n"
   ]
  },
  {
   "cell_type": "code",
   "execution_count": 154,
   "id": "a6f77d7d",
   "metadata": {},
   "outputs": [
    {
     "ename": "TypeError",
     "evalue": "show() takes 1 positional argument but 2 were given",
     "output_type": "error",
     "traceback": [
      "\u001b[1;31m---------------------------------------------------------------------------\u001b[0m",
      "\u001b[1;31mTypeError\u001b[0m                                 Traceback (most recent call last)",
      "\u001b[1;32m<ipython-input-154-75f1032e3ed8>\u001b[0m in \u001b[0;36m<module>\u001b[1;34m\u001b[0m\n\u001b[0;32m      1\u001b[0m \u001b[0ma2\u001b[0m \u001b[1;33m=\u001b[0m \u001b[0msns\u001b[0m\u001b[1;33m.\u001b[0m\u001b[0mbarplot\u001b[0m\u001b[1;33m(\u001b[0m\u001b[0mx\u001b[0m \u001b[1;33m=\u001b[0m \u001b[1;34m\"HeartDisease\"\u001b[0m\u001b[1;33m,\u001b[0m \u001b[0my\u001b[0m \u001b[1;33m=\u001b[0m \u001b[1;34m\"PCT\"\u001b[0m\u001b[1;33m,\u001b[0m \u001b[0mhue\u001b[0m \u001b[1;33m=\u001b[0m \u001b[1;34m\"ChestPainType\"\u001b[0m\u001b[1;33m,\u001b[0m \u001b[0mdata\u001b[0m \u001b[1;33m=\u001b[0m \u001b[0mHD_CP\u001b[0m\u001b[1;33m)\u001b[0m\u001b[0;31m\\\u001b[0m\u001b[1;33m\u001b[0m\u001b[1;33m\u001b[0m\u001b[0m\n\u001b[0;32m      2\u001b[0m \u001b[1;33m.\u001b[0m\u001b[0mset_title\u001b[0m\u001b[1;33m(\u001b[0m\u001b[1;34m\"Chest Pain vs Heart Disease\"\u001b[0m\u001b[1;33m)\u001b[0m\u001b[1;33m\u001b[0m\u001b[1;33m\u001b[0m\u001b[0m\n\u001b[1;32m----> 3\u001b[1;33m \u001b[0mplt\u001b[0m\u001b[1;33m.\u001b[0m\u001b[0mshow\u001b[0m\u001b[1;33m(\u001b[0m\u001b[0ma2\u001b[0m\u001b[1;33m)\u001b[0m\u001b[1;33m\u001b[0m\u001b[1;33m\u001b[0m\u001b[0m\n\u001b[0m",
      "\u001b[1;32m~\\Anaconda3\\lib\\site-packages\\matplotlib\\pyplot.py\u001b[0m in \u001b[0;36mshow\u001b[1;34m(*args, **kwargs)\u001b[0m\n\u001b[0;32m    351\u001b[0m     \"\"\"\n\u001b[0;32m    352\u001b[0m     \u001b[0m_warn_if_gui_out_of_main_thread\u001b[0m\u001b[1;33m(\u001b[0m\u001b[1;33m)\u001b[0m\u001b[1;33m\u001b[0m\u001b[1;33m\u001b[0m\u001b[0m\n\u001b[1;32m--> 353\u001b[1;33m     \u001b[1;32mreturn\u001b[0m \u001b[0m_backend_mod\u001b[0m\u001b[1;33m.\u001b[0m\u001b[0mshow\u001b[0m\u001b[1;33m(\u001b[0m\u001b[1;33m*\u001b[0m\u001b[0margs\u001b[0m\u001b[1;33m,\u001b[0m \u001b[1;33m**\u001b[0m\u001b[0mkwargs\u001b[0m\u001b[1;33m)\u001b[0m\u001b[1;33m\u001b[0m\u001b[1;33m\u001b[0m\u001b[0m\n\u001b[0m\u001b[0;32m    354\u001b[0m \u001b[1;33m\u001b[0m\u001b[0m\n\u001b[0;32m    355\u001b[0m \u001b[1;33m\u001b[0m\u001b[0m\n",
      "\u001b[1;31mTypeError\u001b[0m: show() takes 1 positional argument but 2 were given"
     ]
    },
    {
     "data": {
      "image/png": "[encoded data removed]",
      "text/plain": [
       "<Figure size 576x396 with 1 Axes>"
      ]
     },
     "metadata": {},
     "output_type": "display_data"
    }
   ],
   "source": [
    "a2 = sns.barplot(x = \"HeartDisease\", y = \"PCT\", hue = \"ChestPainType\", data = HD_CP)\\\n",
    ".set_title(\"Chest Pain vs Heart Disease\")\n",
    "plt.show(a2)"
   ]
  },
  {
   "cell_type": "code",
   "execution_count": 155,
   "id": "3dfedc46",
   "metadata": {},
   "outputs": [
    {
     "ename": "TypeError",
     "evalue": "show() takes 1 positional argument but 2 were given",
     "output_type": "error",
     "traceback": [
      "\u001b[1;31m---------------------------------------------------------------------------\u001b[0m",
      "\u001b[1;31mTypeError\u001b[0m                                 Traceback (most recent call last)",
      "\u001b[1;32m<ipython-input-155-0ae4c398c515>\u001b[0m in \u001b[0;36m<module>\u001b[1;34m\u001b[0m\n\u001b[0;32m      1\u001b[0m \u001b[0ma3\u001b[0m \u001b[1;33m=\u001b[0m \u001b[0msns\u001b[0m\u001b[1;33m.\u001b[0m\u001b[0mbarplot\u001b[0m\u001b[1;33m(\u001b[0m\u001b[0mx\u001b[0m \u001b[1;33m=\u001b[0m \u001b[1;34m\"HeartDisease\"\u001b[0m\u001b[1;33m,\u001b[0m \u001b[0my\u001b[0m \u001b[1;33m=\u001b[0m \u001b[1;34m\"PCT\"\u001b[0m\u001b[1;33m,\u001b[0m \u001b[0mhue\u001b[0m \u001b[1;33m=\u001b[0m \u001b[1;34m\"RestingECG\"\u001b[0m\u001b[1;33m,\u001b[0m \u001b[0mdata\u001b[0m \u001b[1;33m=\u001b[0m \u001b[0mHD_RECG\u001b[0m\u001b[1;33m)\u001b[0m\u001b[0;31m\\\u001b[0m\u001b[1;33m\u001b[0m\u001b[1;33m\u001b[0m\u001b[0m\n\u001b[0;32m      2\u001b[0m \u001b[1;33m.\u001b[0m\u001b[0mset_title\u001b[0m\u001b[1;33m(\u001b[0m\u001b[1;34m\"Resting ECG vs Heart Disease\"\u001b[0m\u001b[1;33m)\u001b[0m\u001b[1;33m\u001b[0m\u001b[1;33m\u001b[0m\u001b[0m\n\u001b[1;32m----> 3\u001b[1;33m \u001b[0mplt\u001b[0m\u001b[1;33m.\u001b[0m\u001b[0mshow\u001b[0m\u001b[1;33m(\u001b[0m\u001b[0ma3\u001b[0m\u001b[1;33m)\u001b[0m\u001b[1;33m\u001b[0m\u001b[1;33m\u001b[0m\u001b[0m\n\u001b[0m",
      "\u001b[1;32m~\\Anaconda3\\lib\\site-packages\\matplotlib\\pyplot.py\u001b[0m in \u001b[0;36mshow\u001b[1;34m(*args, **kwargs)\u001b[0m\n\u001b[0;32m    351\u001b[0m     \"\"\"\n\u001b[0;32m    352\u001b[0m     \u001b[0m_warn_if_gui_out_of_main_thread\u001b[0m\u001b[1;33m(\u001b[0m\u001b[1;33m)\u001b[0m\u001b[1;33m\u001b[0m\u001b[1;33m\u001b[0m\u001b[0m\n\u001b[1;32m--> 353\u001b[1;33m     \u001b[1;32mreturn\u001b[0m \u001b[0m_backend_mod\u001b[0m\u001b[1;33m.\u001b[0m\u001b[0mshow\u001b[0m\u001b[1;33m(\u001b[0m\u001b[1;33m*\u001b[0m\u001b[0margs\u001b[0m\u001b[1;33m,\u001b[0m \u001b[1;33m**\u001b[0m\u001b[0mkwargs\u001b[0m\u001b[1;33m)\u001b[0m\u001b[1;33m\u001b[0m\u001b[1;33m\u001b[0m\u001b[0m\n\u001b[0m\u001b[0;32m    354\u001b[0m \u001b[1;33m\u001b[0m\u001b[0m\n\u001b[0;32m    355\u001b[0m \u001b[1;33m\u001b[0m\u001b[0m\n",
      "\u001b[1;31mTypeError\u001b[0m: show() takes 1 positional argument but 2 were given"
     ]
    },
    {
     "data": {
      "image/png": "[encoded data removed]",
      "text/plain": [
       "<Figure size 576x396 with 1 Axes>"
      ]
     },
     "metadata": {},
     "output_type": "display_data"
    }
   ],
   "source": [
    "a3 = sns.barplot(x = \"HeartDisease\", y = \"PCT\", hue = \"RestingECG\", data = HD_RECG)\\\n",
    ".set_title(\"Resting ECG vs Heart Disease\")\n",
    "plt.show(a3)\n"
   ]
  },
  {
   "cell_type": "code",
   "execution_count": 157,
   "id": "3b84f1f6",
   "metadata": {},
   "outputs": [
    {
     "ename": "TypeError",
     "evalue": "show() takes 1 positional argument but 2 were given",
     "output_type": "error",
     "traceback": [
      "\u001b[1;31m---------------------------------------------------------------------------\u001b[0m",
      "\u001b[1;31mTypeError\u001b[0m                                 Traceback (most recent call last)",
      "\u001b[1;32m<ipython-input-157-014ebfd6b294>\u001b[0m in \u001b[0;36m<module>\u001b[1;34m\u001b[0m\n\u001b[0;32m      1\u001b[0m \u001b[0ma4\u001b[0m \u001b[1;33m=\u001b[0m \u001b[0msns\u001b[0m\u001b[1;33m.\u001b[0m\u001b[0mbarplot\u001b[0m\u001b[1;33m(\u001b[0m\u001b[0mx\u001b[0m \u001b[1;33m=\u001b[0m \u001b[1;34m\"HeartDisease\"\u001b[0m\u001b[1;33m,\u001b[0m \u001b[0my\u001b[0m \u001b[1;33m=\u001b[0m \u001b[1;34m\"PCT\"\u001b[0m\u001b[1;33m,\u001b[0m \u001b[0mhue\u001b[0m \u001b[1;33m=\u001b[0m \u001b[1;34m\"ExerciseAngina\"\u001b[0m\u001b[1;33m,\u001b[0m \u001b[0mdata\u001b[0m \u001b[1;33m=\u001b[0m \u001b[0mHD_EA\u001b[0m\u001b[1;33m)\u001b[0m\u001b[0;31m\\\u001b[0m\u001b[1;33m\u001b[0m\u001b[1;33m\u001b[0m\u001b[0m\n\u001b[0;32m      2\u001b[0m \u001b[1;33m.\u001b[0m\u001b[0mset_title\u001b[0m\u001b[1;33m(\u001b[0m\u001b[1;34m\"Exercise Angina vs Heart Disease\"\u001b[0m\u001b[1;33m)\u001b[0m\u001b[1;33m\u001b[0m\u001b[1;33m\u001b[0m\u001b[0m\n\u001b[1;32m----> 3\u001b[1;33m \u001b[0mplt\u001b[0m\u001b[1;33m.\u001b[0m\u001b[0mshow\u001b[0m\u001b[1;33m(\u001b[0m\u001b[0ma4\u001b[0m\u001b[1;33m)\u001b[0m\u001b[1;33m\u001b[0m\u001b[1;33m\u001b[0m\u001b[0m\n\u001b[0m",
      "\u001b[1;32m~\\Anaconda3\\lib\\site-packages\\matplotlib\\pyplot.py\u001b[0m in \u001b[0;36mshow\u001b[1;34m(*args, **kwargs)\u001b[0m\n\u001b[0;32m    351\u001b[0m     \"\"\"\n\u001b[0;32m    352\u001b[0m     \u001b[0m_warn_if_gui_out_of_main_thread\u001b[0m\u001b[1;33m(\u001b[0m\u001b[1;33m)\u001b[0m\u001b[1;33m\u001b[0m\u001b[1;33m\u001b[0m\u001b[0m\n\u001b[1;32m--> 353\u001b[1;33m     \u001b[1;32mreturn\u001b[0m \u001b[0m_backend_mod\u001b[0m\u001b[1;33m.\u001b[0m\u001b[0mshow\u001b[0m\u001b[1;33m(\u001b[0m\u001b[1;33m*\u001b[0m\u001b[0margs\u001b[0m\u001b[1;33m,\u001b[0m \u001b[1;33m**\u001b[0m\u001b[0mkwargs\u001b[0m\u001b[1;33m)\u001b[0m\u001b[1;33m\u001b[0m\u001b[1;33m\u001b[0m\u001b[0m\n\u001b[0m\u001b[0;32m    354\u001b[0m \u001b[1;33m\u001b[0m\u001b[0m\n\u001b[0;32m    355\u001b[0m \u001b[1;33m\u001b[0m\u001b[0m\n",
      "\u001b[1;31mTypeError\u001b[0m: show() takes 1 positional argument but 2 were given"
     ]
    },
    {
     "data": {
      "image/png": "[encoded data removed]",
      "text/plain": [
       "<Figure size 576x396 with 1 Axes>"
      ]
     },
     "metadata": {},
     "output_type": "display_data"
    }
   ],
   "source": [
    "a4 = sns.barplot(x = \"HeartDisease\", y = \"PCT\", hue = \"ExerciseAngina\", data = HD_EA)\\\n",
    ".set_title(\"Exercise Angina vs Heart Disease\")\n",
    "plt.show(a4)"
   ]
  },
  {
   "cell_type": "code",
   "execution_count": null,
   "id": "ebceea2e",
   "metadata": {},
   "outputs": [],
   "source": [
    "Statistical Analysis\n",
    "Chi Squared Test - See reference 3\n",
    "We conduct chi squared tests to examine the relationship between heart disease and each of the catgorical variabes.\n",
    "Sex\n",
    "Significant\n",
    "There is a signficant split in the number of females with and without heart disease and the number of males with and without heart disease. Out of\n",
    "508 people with heart disease, only 50 of those are female. The Chi squared test shows that sex is statistically significant in determining heart\n",
    "disease, with a p value of 4.598e-20.\n",
    "Chest Pain\n",
    "Highly Significant\n",
    "Resting ECG\n",
    "Moderately Significant\n",
    "Exercise Angina\n",
    "Highly Significant"
   ]
  },
  {
   "cell_type": "code",
   "execution_count": 159,
   "id": "32e659f9",
   "metadata": {},
   "outputs": [
    {
     "name": "stdout",
     "output_type": "stream",
     "text": [
      "HeartDisease    0    1\n",
      "Sex                   \n",
      "F             143   50\n",
      "M             267  458\n",
      "HeartDisease     0    1\n",
      "ChestPainType          \n",
      "ASY            104  392\n",
      "ATA            149   24\n",
      "NAP            131   72\n",
      "TA              26   20\n",
      "HeartDisease    0    1\n",
      "RestingECG            \n",
      "LVH            82  106\n",
      "Normal        267  285\n",
      "ST             61  117\n",
      "HeartDisease      0    1\n",
      "ExerciseAngina          \n",
      "N               355  192\n",
      "Y                55  316\n"
     ]
    }
   ],
   "source": [
    "\n",
    "crosstab1 = pd.crosstab(heart[\"Sex\"], heart[\"HeartDisease\"])\n",
    "crosstab2 = pd.crosstab(heart[\"ChestPainType\"], heart[\"HeartDisease\"])\n",
    "crosstab3 = pd.crosstab(heart[\"RestingECG\"], heart[\"HeartDisease\"])\n",
    "crosstab4 = pd.crosstab(heart[\"ExerciseAngina\"], heart[\"HeartDisease\"])\n",
    "print(crosstab1)\n",
    "print(crosstab2)\n",
    "print(crosstab3)\n",
    "print(crosstab4)\n"
   ]
  },
  {
   "cell_type": "code",
   "execution_count": 164,
   "id": "681e9711",
   "metadata": {},
   "outputs": [
    {
     "name": "stdout",
     "output_type": "stream",
     "text": [
      "(84.14510134633775, 4.5976174508091635e-20, 1, array([[ 86.19825708, 106.80174292],\n",
      "       [323.80174292, 401.19825708]]))\n"
     ]
    }
   ],
   "source": [
    "\n",
    "# chi squared test for each cross tabulation\n",
    "print(stats.chi2_contingency(crosstab1))# Gender = Highly Significant, p value = 4.597e-20"
   ]
  },
  {
   "cell_type": "code",
   "execution_count": 165,
   "id": "2aecd59e",
   "metadata": {
    "scrolled": true
   },
   "outputs": [
    {
     "name": "stdout",
     "output_type": "stream",
     "text": [
      "(268.06723902181767, 8.08372842808765e-58, 3, array([[221.52505447, 274.47494553],\n",
      "       [ 77.26579521,  95.73420479],\n",
      "       [ 90.66448802, 112.33551198],\n",
      "       [ 20.54466231,  25.45533769]]))\n"
     ]
    }
   ],
   "source": [
    "print(stats.chi2_contingency(crosstab2)) # Chest Pain = Highly Signficant, p-value = 8.08e-58"
   ]
  },
  {
   "cell_type": "code",
   "execution_count": 166,
   "id": "8865d18c",
   "metadata": {
    "scrolled": true
   },
   "outputs": [
    {
     "name": "stdout",
     "output_type": "stream",
     "text": [
      "(10.931469339140978, 0.0042292328167544925, 2, array([[ 83.96514161, 104.03485839],\n",
      "       [246.53594771, 305.46405229],\n",
      "       [ 79.49891068,  98.50108932]]))\n"
     ]
    }
   ],
   "source": [
    "print(stats.chi2_contingency(crosstab3)) # Resting ECG = Moderately significant but not as much as others. p-value = 0.00"
   ]
  },
  {
   "cell_type": "code",
   "execution_count": 167,
   "id": "ae6857db",
   "metadata": {
    "scrolled": false
   },
   "outputs": [
    {
     "name": "stdout",
     "output_type": "stream",
     "text": [
      "(222.25938271530583, 2.907808387659878e-50, 1, array([[244.30283224, 302.69716776],\n",
      "       [165.69716776, 205.30283224]]))\n"
     ]
    }
   ],
   "source": [
    "print(stats.chi2_contingency(crosstab4)) # Exercise Angina = Highly Significant, p-value = 2.908e-50\n"
   ]
  },
  {
   "cell_type": "code",
   "execution_count": null,
   "id": "f82b33f9",
   "metadata": {},
   "outputs": [],
   "source": [
    "Outlier Detection Function\n",
    "https://onestopdataanalysis.com/python-outlier-detection/#:~:text=An%20outlier%20can%20be%20easily,bound%20is%20considered%20an%20outlier\n",
    "\n",
    "Categorical variable anaylsis\n",
    "https://www.kaggle.com/code/venky73/analyzing-and-predicting-the-heart-disease-victims\n",
    "\n",
    "Chi Squared Test\n",
    "https://www.pythonfordatascience.org/chi-square-test-of-independence-python/"
   ]
  }
 ],
 "metadata": {
  "kernelspec": {
   "display_name": "Python 3",
   "language": "python",
   "name": "python3"
  },
  "language_info": {
   "codemirror_mode": {
    "name": "ipython",
    "version": 3
   },
   "file_extension": ".py",
   "mimetype": "text/x-python",
   "name": "python",
   "nbconvert_exporter": "python",
   "pygments_lexer": "ipython3",
   "version": "3.8.8"
  }
 },
 "nbformat": 4,
 "nbformat_minor": 5
}
